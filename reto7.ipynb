{
 "cells": [
  {
   "cell_type": "code",
   "execution_count": null,
   "metadata": {},
   "outputs": [],
   "source": [
    "n : int = 1           # inicializa la variable n en 0\n",
    "while (n <= 100) :    # mientras n sea menor o igual a 100\n",
    "   print(\"El número \" + str(n) + \" elevado al cuadrado es \" + str(n**2) ) # imprime el resultado del cuadrado de n\n",
    "   n +=1              # incrementa el valor de n en 1\n"
   ]
  },
  {
   "cell_type": "code",
   "execution_count": null,
   "metadata": {},
   "outputs": [],
   "source": [
    "pares = []          # crea una lista vacía para los números pares\n",
    "impares = []        # crea una lista vacía para los números impares\n",
    "n : int = 1         # inicializa la variable n en 0\n",
    "while (n <= 1000) : # mientras n sea menor o igual a 1000\n",
    "    if n % 2 == 0 : # si el residuo de la division es igual a 0 es par\n",
    "         pares.append(n)\n",
    "    else:\n",
    "        n % 2 != 0  # si el residuo de la division no es igual a 0 es impar\n",
    "        impares.append(n)\n",
    "    n +=1           # incrementa el valor de n en 1\n",
    "\n",
    "print(\"Los números pares hasta 1000 son: \" + str(pares)) # imprime la lista de pares\n",
    "print(\"Los números impares hasta 1000 son: \" + str(impares)) # imprime la lista de impares"
   ]
  },
  {
   "cell_type": "code",
   "execution_count": null,
   "metadata": {},
   "outputs": [],
   "source": [
    "pares = []          # Crea una lista vacía para los números pares\n",
    "n = int(input(\"Ingrese un número natural mayor o igual a 2: \")) # Declara e inicializa variable con valor dado por el usuario\n",
    "# Imprime los números pares en forma descendente hasta 2\n",
    "while n >= 2:       # Mientras que n sea mayor o igual a 2\n",
    "    if n % 2 == 0:  # si el modulo de n es igual a 0 es par\n",
    "        pares.append(n) # Se agrega a la lista de pares\n",
    "        n -= 2      # se actualiza la variable disminuyendola de 2 en 2\n",
    "    if n % 2 != 0:  # si el modulo de n no es igual a 0 es impar\n",
    "        n-=1        # se le resta 1 para volverlo par\n",
    "print(\"Los números pares ordenados de forma descendente: \" + str(pares)) # Imprime la lista pares en forma descendente hasta 2"
   ]
  },
  {
   "cell_type": "code",
   "execution_count": null,
   "metadata": {},
   "outputs": [],
   "source": [
    "poblacionA = 25000000   # Población inicial del país A\n",
    "poblacionB = 18900000   # Población inicial del país B\n",
    "tasaA = 0.02          # Tasa de crecimiento anual del país A\n",
    "tasaB = 0.03          # Tasa de crecimiento anual del país B\n",
    "year = 2022           # Año inicial\n",
    "\n",
    "while poblacionB <= poblacionA:      # Mientras la población del país B sea menor o igual que A\n",
    "    poblacionA *= ( 1 + tasaA )      # Se suma la cantidad de personas segun la tasa de crecimiento anual\n",
    "    poblacionB *= ( 1 + tasaB )      # Se suma la cantidad de personas segun la tasa de crecimiento anual\n",
    "    year += 1                        # Aumenta el año\n",
    "    \n",
    "print(f\"La población del país B superará al país A en el año {year} con una población \" + str( poblacionB ) + \" Vs. una población de \" + str( poblacionA ) + \" del país A.\") \n",
    "# Imprime el año en que la población de B supera a la de A"
   ]
  },
  {
   "cell_type": "code",
   "execution_count": null,
   "metadata": {},
   "outputs": [],
   "source": [
    "n = int(input(\"Ingrese un número natural: \"))  # Declarar e inicializar con el valor dado por el usuario\n",
    "factorial = 1         # Inicializar la variable factorial en 1\n",
    "i : int = 1           # Inicializar la variable i en 1\n",
    "while i <= n:         # Mientras que i sea menor o igual a n\n",
    "    factorial *= i    # Se multiplica factorial por i cambiando sus valores con cada iteración\n",
    "    i += 1            # Actualizar i para ir multiplicando por el siguiente numero\n",
    "print(f\"El factorial de {n} es {factorial}\")  # Imprimir el factorial de n"
   ]
  },
  {
   "cell_type": "code",
   "execution_count": null,
   "metadata": {},
   "outputs": [],
   "source": [
    "print(\"Piense y memorice un número a adivinar entre 1 y 100\")  # Información\n",
    "minimo : int = 1          # Inicializar las variables para la búsqueda  \n",
    "maximo : int = 100\n",
    "i : int = 0\n",
    "while minimo <= maximo:   # Mientras el minimo sea menor o igual que el maximo\n",
    "    i += 1                # Incrementar el contador de intento\n",
    "    medio = (minimo + maximo) // 2 # Adivinar el número medio del rango actual redondeado hacia abajo\n",
    "    respuesta = input(f\"¿Es {medio} el número? (s/n) \")\n",
    "    \n",
    "    if respuesta == \"s\":  # Actualizar el rango de búsqueda según la respuesta\n",
    "        print(f\"¡Adiviné el número en {i} intentos!\")\n",
    "        break\n",
    "    elif respuesta == \"n\":\n",
    "        respuesta = input(f\"¿Es el número mayor o menor que {medio}? (Digite 1=Mayor o 2=Menor) \")\n",
    "        if respuesta == \"1\":\n",
    "            minimo = medio + 1\n",
    "        elif respuesta == \"2\":\n",
    "            maximo = medio - 1\n",
    "        else:\n",
    "            print(\"Respuesta inválida, intente de nuevo.\")\n",
    "    else:\n",
    "        print(\"Respuesta inválida, intente de nuevo.\")"
   ]
  },
  {
   "cell_type": "code",
   "execution_count": null,
   "metadata": {},
   "outputs": [],
   "source": [
    "n = int(input(\"Ingrese un número de 2 a 50: \")) # Declarar e inicializar con el valor dado por el usuario\n",
    "i : int = 1          # Inicializar la variable i en 1\n",
    "while i <= n :       # Mientras i sea menor o igual n\n",
    "    if n%i == 0 :  # Si n es divisible por i su residuo es igual a 0\n",
    "        print(f\"{i} es divisor de {n}\")   # Imprimir i\n",
    "    i +=1          # Actualizar i en 1 más"
   ]
  },
  {
   "cell_type": "code",
   "execution_count": null,
   "metadata": {},
   "outputs": [],
   "source": [
    "def esPrimo(n):\n",
    "    if n < 2:     # Si el número es menor que 2, no es primo\n",
    "        return False\n",
    "    i = 2         # Inicializa i en 2 ( i es el divisor )\n",
    "    while i <= n**(0.5): # Mientras el divisor sea menor o igual que la raíz cuadrada de n\n",
    "        if n % i == 0:   # Si el número es divisible por el divisor actual\n",
    "            return False # El número no es primo\n",
    "        i += 1           # Incrementar en 1 el divisor\n",
    "    return True          # Si algún divisor lo divide, el número es primo\n",
    "\n",
    "if __name__ == \"__main__\":\n",
    "    n = 1                # Inicializa n ( primer número a comprobar ) \n",
    "    while n <= 100:      # Mientras el número sea menor o igual a 100\n",
    "        if esPrimo(n):   # Si el número es primo ( se llama a la funcion esPrimo)\n",
    "            print(n , end=\", \") # Imprime el número en la misma línea, separado por una coma\n",
    "        n += 1           # Incrementa el número a comprobar en 1 para pasar al siguiente"
   ]
  }
 ],
 "metadata": {
  "language_info": {
   "name": "python"
  },
  "orig_nbformat": 4
 },
 "nbformat": 4,
 "nbformat_minor": 2
}
